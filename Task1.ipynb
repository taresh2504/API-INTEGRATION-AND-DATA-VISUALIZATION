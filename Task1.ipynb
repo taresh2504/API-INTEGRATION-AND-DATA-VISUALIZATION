%matplotlib inline
import requests
import pandas as pd
import matplotlib.pyplot as plt
import seaborn as sns

# API key
api_key = "fc907c70f7fdd517431482d73266a191"
city = "Bhopal"
url = f"https://api.openweathermap.org/data/2.5/forecast?q={city}&appid={api_key}&units=metric"

# Fetch data
response = requests.get(url)
data = response.json()

# Optional: check for error
if "list" not in data:
    print("❌ Error in API response:")
    print(data)
else:
    forecast = data['list']
    df = pd.DataFrame({
        "Date": [item['dt_txt'] for item in forecast],
        "Temperature": [item['main']['temp'] for item in forecast],
        "Humidity": [item['main']['humidity'] for item in forecast]
    })
    df['Date'] = pd.to_datetime(df['Date'])

    plt.figure(figsize=(12, 6))
    sns.lineplot(x='Date', y='Temperature', data=df, marker='o')
    plt.title(f"5-Day Temperature Forecast for {city}")
    plt.xlabel("Date and Time")
    plt.ylabel("Temperature (°C)")
    plt.xticks(rotation=45)
    plt.tight_layout()
    plt.grid()
    plt.show()
